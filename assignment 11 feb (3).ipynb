{
 "cells": [
  {
   "cell_type": "code",
   "execution_count": null,
   "id": "28d253a0-3e89-4f10-aabd-8ff789a0285a",
   "metadata": {},
   "outputs": [],
   "source": [
    "In Python, an exception is an error that occurs during the execution of a program. When an exception is encountered, the normal flow of the program is disrupted and Python will raise an exception object. The exception object contains information about the error, such as the type of error and where it occurred in the code.\n",
    "\n",
    "Syntax errors, on the other hand, are errors that occur when the Python interpreter cannot understand the code due to a mistake in the syntax. Syntax errors are typically caught by the interpreter before the code is executed, and they prevent the program from running at all. Examples of syntax errors include misspelled variable names, missing parentheses or quotation marks, or incorrect indentation.\n",
    "\n",
    "The key difference between exceptions and syntax errors is that syntax errors are caught by the interpreter before the code is executed, while exceptions occur during the execution of the code. Additionally, syntax errors are typically caused by mistakes in the code itself, while exceptions can be caused by a variety of factors such as invalid input, missing files, or network errors.\n",
    "\n",
    "\n",
    "\n"
   ]
  },
  {
   "cell_type": "code",
   "execution_count": 3,
   "id": "960d1794-9943-4eeb-82aa-524e87ea5363",
   "metadata": {},
   "outputs": [],
   "source": [
    "###question no 2"
   ]
  },
  {
   "cell_type": "code",
   "execution_count": null,
   "id": "c1a314f4-8170-4244-8c21-15a3e948aa8e",
   "metadata": {},
   "outputs": [],
   "source": [
    "When an exception is not handled, it will propagate up the call stack until it either encounters an appropriate exception handler or the program terminates. This means that any code that was supposed to execute after the line of code that threw the exception will not be executed."
   ]
  },
  {
   "cell_type": "code",
   "execution_count": null,
   "id": "6cef8fa9-7abb-43fc-8771-f72323f137b1",
   "metadata": {},
   "outputs": [],
   "source": [
    "def divide_by_zero():\n",
    "    return 1/0\n",
    "\n",
    "def main():\n",
    "    result = divide_by_zero()\n",
    "    print(result)\n",
    "\n",
    "if __name__ == '__main__':\n",
    "    main()\n"
   ]
  },
  {
   "cell_type": "code",
   "execution_count": 4,
   "id": "b465116f-e0f3-4790-a19e-2a6e17ff7b55",
   "metadata": {},
   "outputs": [],
   "source": [
    "###question no 3"
   ]
  },
  {
   "cell_type": "code",
   "execution_count": null,
   "id": "cd0cd3be-68fc-4fe9-8fee-95b5123e254e",
   "metadata": {},
   "outputs": [],
   "source": [
    "In Python, you can catch and handle exceptions using the try and except statements. The try block contains the code that may raise an exception, and the except block specifies what to do if an exception is raised."
   ]
  },
  {
   "cell_type": "code",
   "execution_count": null,
   "id": "d653853c-5c9b-4001-bdd1-100dac8895b5",
   "metadata": {},
   "outputs": [],
   "source": [
    "try:\n",
    "    x = int(input(\"Enter a number: \"))\n",
    "    y = 1 / x\n",
    "except ZeroDivisionError:\n",
    "    print(\"Cannot divide by zero\")\n",
    "except ValueError:\n",
    "    print(\"Invalid input\")\n",
    "else:\n",
    "    print(\"The result is:\", y)\n"
   ]
  },
  {
   "cell_type": "code",
   "execution_count": 5,
   "id": "d31cfa08-6b35-4d20-b566-5e7626dcc2cb",
   "metadata": {},
   "outputs": [],
   "source": [
    "###question no 4"
   ]
  },
  {
   "cell_type": "code",
   "execution_count": null,
   "id": "7e6b6430-5f87-46f3-92cf-6b37c157c24c",
   "metadata": {},
   "outputs": [],
   "source": [
    "In Python, try and else are control flow statements that are used to handle exceptions in code.\n",
    "\n"
   ]
  },
  {
   "cell_type": "code",
   "execution_count": null,
   "id": "7ae528f7-92a8-4edb-9ef2-f79b81872413",
   "metadata": {},
   "outputs": [],
   "source": [
    "try:\n",
    "    # code that might raise an exception\n",
    "except ExceptionType:\n",
    "    # code to handle the exception\n",
    "else:\n",
    "    # code to execute if no exception is raised\n"
   ]
  },
  {
   "cell_type": "code",
   "execution_count": null,
   "id": "fc44e6cc-9119-43e9-86ac-55b8ea9b174b",
   "metadata": {},
   "outputs": [],
   "source": [
    "The try block contains the code that might raise an exception. If an exception is raised, it is caught by the except block, which contains code to handle the exception. The else block is executed only if no exception is raised."
   ]
  },
  {
   "cell_type": "code",
   "execution_count": null,
   "id": "e6e683ad-946c-4efb-a357-7dad2900877f",
   "metadata": {},
   "outputs": [],
   "source": [
    "try:\n",
    "    x = int(input(\"Enter a number: \"))\n",
    "except ValueError:\n",
    "    print(\"That's not a valid number!\")\n",
    "else:\n",
    "    print(\"You entered:\", x)\n"
   ]
  },
  {
   "cell_type": "code",
   "execution_count": null,
   "id": "0a8aecd6-3005-4c74-a886-8196f65afc2e",
   "metadata": {},
   "outputs": [],
   "source": [
    "###question no 5"
   ]
  },
  {
   "cell_type": "code",
   "execution_count": null,
   "id": "7c239cf8-cafa-4026-9315-b0ce54e4c92d",
   "metadata": {},
   "outputs": [],
   "source": [
    "Custom exceptions are user-defined exceptions in Python that allow programmers to create their own exception types based on the specific requirements of their code. Custom exceptions help programmers to handle errors and unexpected situations in a more precise and specific way.\n",
    "\n",
    "Python provides several built-in exceptions that can be used to handle a wide range of errors. However, there may be cases where the existing exceptions do not provide enough information about the error or do not match the semantics of the program. In such situations, custom exceptions can be used to create exceptions that are tailored to the specific needs of the program."
   ]
  },
  {
   "cell_type": "code",
   "execution_count": null,
   "id": "0f2769a4-b092-4264-987a-fea078d551f8",
   "metadata": {},
   "outputs": [],
   "source": [
    "class NegativeNumberError(Exception):\n",
    "    def __init__(self, message):\n",
    "        self.message = message\n",
    "\n",
    "def sqrt(x):\n",
    "    if x < 0:\n",
    "        raise NegativeNumberError(\"Cannot calculate square root of a negative number\")\n",
    "    return x**0.5\n",
    "\n",
    "try:\n",
    "    result = sqrt(-5)\n",
    "except NegativeNumberError as e:\n",
    "    print(e.message)\n",
    "\n"
   ]
  },
  {
   "cell_type": "code",
   "execution_count": null,
   "id": "0cb39457-8d90-4f18-81f1-6dbf2178bda7",
   "metadata": {},
   "outputs": [],
   "source": [
    "###question no 6"
   ]
  },
  {
   "cell_type": "code",
   "execution_count": null,
   "id": "4b50a9e3-b65f-4f4f-a8f9-ba316f03e5cd",
   "metadata": {},
   "outputs": [],
   "source": [
    "class CustomException(Exception):\n",
    "    def __init__(self, message):\n",
    "        super().__init__(message)\n",
    "\n",
    "try:\n",
    "    # Some code that might raise an exception\n",
    "    x = 1 / 0\n",
    "except ZeroDivisionError:\n",
    "    raise CustomException(\"Cannot divide by zero!\")\n"
   ]
  },
  {
   "cell_type": "code",
   "execution_count": null,
   "id": "dce76087-7040-42e5-8ef0-312a3c6772d2",
   "metadata": {},
   "outputs": [],
   "source": []
  }
 ],
 "metadata": {
  "kernelspec": {
   "display_name": "Python 3 (ipykernel)",
   "language": "python",
   "name": "python3"
  },
  "language_info": {
   "codemirror_mode": {
    "name": "ipython",
    "version": 3
   },
   "file_extension": ".py",
   "mimetype": "text/x-python",
   "name": "python",
   "nbconvert_exporter": "python",
   "pygments_lexer": "ipython3",
   "version": "3.10.8"
  }
 },
 "nbformat": 4,
 "nbformat_minor": 5
}
